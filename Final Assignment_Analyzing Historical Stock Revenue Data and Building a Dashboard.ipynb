{
 "cells": [
  {
   "cell_type": "markdown",
   "id": "9d939c6c",
   "metadata": {},
   "source": [
    "# Use yfinance to Extract Stock Data\n",
    "\n",
    "Reset the index, save, and display the first five rows of the tesla_data dataframe using the head function. Upload the screenshot of the results."
   ]
  },
  {
   "cell_type": "code",
   "execution_count": 69,
   "id": "3d2d7037",
   "metadata": {},
   "outputs": [],
   "source": [
    "import yfinance as yf"
   ]
  },
  {
   "cell_type": "code",
   "execution_count": 81,
   "id": "e8913634",
   "metadata": {},
   "outputs": [],
   "source": [
    "tesla = yf.Ticker(\"TSLA\")"
   ]
  },
  {
   "cell_type": "code",
   "execution_count": 82,
   "id": "a8c00f69",
   "metadata": {},
   "outputs": [],
   "source": [
    "df_tesla = tesla.history()"
   ]
  },
  {
   "cell_type": "code",
   "execution_count": 83,
   "id": "d320df6d",
   "metadata": {
    "scrolled": true
   },
   "outputs": [
    {
     "data": {
      "text/html": [
       "<div>\n",
       "<style scoped>\n",
       "    .dataframe tbody tr th:only-of-type {\n",
       "        vertical-align: middle;\n",
       "    }\n",
       "\n",
       "    .dataframe tbody tr th {\n",
       "        vertical-align: top;\n",
       "    }\n",
       "\n",
       "    .dataframe thead th {\n",
       "        text-align: right;\n",
       "    }\n",
       "</style>\n",
       "<table border=\"1\" class=\"dataframe\">\n",
       "  <thead>\n",
       "    <tr style=\"text-align: right;\">\n",
       "      <th></th>\n",
       "      <th>Open</th>\n",
       "      <th>High</th>\n",
       "      <th>Low</th>\n",
       "      <th>Close</th>\n",
       "      <th>Volume</th>\n",
       "      <th>Dividends</th>\n",
       "      <th>Stock Splits</th>\n",
       "    </tr>\n",
       "  </thead>\n",
       "  <tbody>\n",
       "    <tr>\n",
       "      <th>0</th>\n",
       "      <td>692.340027</td>\n",
       "      <td>703.690002</td>\n",
       "      <td>681.559998</td>\n",
       "      <td>695.200012</td>\n",
       "      <td>23951200</td>\n",
       "      <td>0</td>\n",
       "      <td>0</td>\n",
       "    </tr>\n",
       "    <tr>\n",
       "      <th>1</th>\n",
       "      <td>701.760010</td>\n",
       "      <td>736.090027</td>\n",
       "      <td>696.630005</td>\n",
       "      <td>733.630005</td>\n",
       "      <td>27310200</td>\n",
       "      <td>0</td>\n",
       "      <td>0</td>\n",
       "    </tr>\n",
       "    <tr>\n",
       "      <th>2</th>\n",
       "      <td>727.000000</td>\n",
       "      <td>764.940002</td>\n",
       "      <td>723.479980</td>\n",
       "      <td>752.289978</td>\n",
       "      <td>33951400</td>\n",
       "      <td>0</td>\n",
       "      <td>0</td>\n",
       "    </tr>\n",
       "    <tr>\n",
       "      <th>3</th>\n",
       "      <td>756.309998</td>\n",
       "      <td>759.190002</td>\n",
       "      <td>700.880005</td>\n",
       "      <td>703.030029</td>\n",
       "      <td>33080400</td>\n",
       "      <td>0</td>\n",
       "      <td>0</td>\n",
       "    </tr>\n",
       "    <tr>\n",
       "      <th>4</th>\n",
       "      <td>710.539978</td>\n",
       "      <td>719.320007</td>\n",
       "      <td>685.109985</td>\n",
       "      <td>699.210022</td>\n",
       "      <td>29310300</td>\n",
       "      <td>0</td>\n",
       "      <td>0</td>\n",
       "    </tr>\n",
       "  </tbody>\n",
       "</table>\n",
       "</div>"
      ],
      "text/plain": [
       "         Open        High         Low       Close    Volume  Dividends  \\\n",
       "0  692.340027  703.690002  681.559998  695.200012  23951200          0   \n",
       "1  701.760010  736.090027  696.630005  733.630005  27310200          0   \n",
       "2  727.000000  764.940002  723.479980  752.289978  33951400          0   \n",
       "3  756.309998  759.190002  700.880005  703.030029  33080400          0   \n",
       "4  710.539978  719.320007  685.109985  699.210022  29310300          0   \n",
       "\n",
       "   Stock Splits  \n",
       "0             0  \n",
       "1             0  \n",
       "2             0  \n",
       "3             0  \n",
       "4             0  "
      ]
     },
     "execution_count": 83,
     "metadata": {},
     "output_type": "execute_result"
    }
   ],
   "source": [
    "df_tesla = df_tesla.reset_index(drop=True)\n",
    "df_tesla.head()"
   ]
  },
  {
   "cell_type": "markdown",
   "id": "7f9a145f",
   "metadata": {},
   "source": [
    "# Use Webscraping to Extract Tesla Revenue Data"
   ]
  },
  {
   "cell_type": "code",
   "execution_count": 38,
   "id": "44021d11",
   "metadata": {},
   "outputs": [],
   "source": [
    "from bs4 import BeautifulSoup\n",
    "import requests\n",
    "import pandas as pd\n",
    "url = \"https://www.macrotrends.net/stocks/charts/TSLA/tesla/revenue\"\n",
    "html_data = requests.get(url).text"
   ]
  },
  {
   "cell_type": "code",
   "execution_count": 39,
   "id": "98445f54",
   "metadata": {},
   "outputs": [],
   "source": [
    "soup = BeautifulSoup(html_data,'html5lib')"
   ]
  },
  {
   "cell_type": "code",
   "execution_count": 87,
   "id": "10d3190c",
   "metadata": {},
   "outputs": [
    {
     "data": {
      "text/html": [
       "<div>\n",
       "<style scoped>\n",
       "    .dataframe tbody tr th:only-of-type {\n",
       "        vertical-align: middle;\n",
       "    }\n",
       "\n",
       "    .dataframe tbody tr th {\n",
       "        vertical-align: top;\n",
       "    }\n",
       "\n",
       "    .dataframe thead th {\n",
       "        text-align: right;\n",
       "    }\n",
       "</style>\n",
       "<table border=\"1\" class=\"dataframe\">\n",
       "  <thead>\n",
       "    <tr style=\"text-align: right;\">\n",
       "      <th></th>\n",
       "      <th>Date</th>\n",
       "      <th>Revenue</th>\n",
       "    </tr>\n",
       "  </thead>\n",
       "  <tbody>\n",
       "    <tr>\n",
       "      <th>0</th>\n",
       "      <td>2022-06-30</td>\n",
       "      <td>$16,934</td>\n",
       "    </tr>\n",
       "    <tr>\n",
       "      <th>1</th>\n",
       "      <td>2022-03-31</td>\n",
       "      <td>$18,756</td>\n",
       "    </tr>\n",
       "    <tr>\n",
       "      <th>2</th>\n",
       "      <td>2021-12-31</td>\n",
       "      <td>$17,719</td>\n",
       "    </tr>\n",
       "    <tr>\n",
       "      <th>3</th>\n",
       "      <td>2021-09-30</td>\n",
       "      <td>$13,757</td>\n",
       "    </tr>\n",
       "    <tr>\n",
       "      <th>4</th>\n",
       "      <td>2021-06-30</td>\n",
       "      <td>$11,958</td>\n",
       "    </tr>\n",
       "  </tbody>\n",
       "</table>\n",
       "</div>"
      ],
      "text/plain": [
       "         Date  Revenue\n",
       "0  2022-06-30  $16,934\n",
       "1  2022-03-31  $18,756\n",
       "2  2021-12-31  $17,719\n",
       "3  2021-09-30  $13,757\n",
       "4  2021-06-30  $11,958"
      ]
     },
     "execution_count": 87,
     "metadata": {},
     "output_type": "execute_result"
    }
   ],
   "source": [
    "tesla_revenue=pd.read_html(url, match=\"Tesla Quarterly Revenue\", flavor='bs4')[0]\n",
    "tesla_revenue = df_revenue.rename(columns={'Tesla Quarterly Revenue(Millions of US $)':'Date','Tesla Quarterly Revenue(Millions of US $).1':'Revenue'})\n",
    "tesla_revenue.head()"
   ]
  },
  {
   "cell_type": "markdown",
   "id": "b502ed09",
   "metadata": {},
   "source": [
    "# Use yfinance to Extract Stock Data\n",
    "\n",
    "Reset the index, save, and display the first five rows of the gme_data dataframe using the head function. Upload a screenshot of the results."
   ]
  },
  {
   "cell_type": "code",
   "execution_count": 27,
   "id": "a1bd5263",
   "metadata": {},
   "outputs": [],
   "source": [
    "import yfinance as yf"
   ]
  },
  {
   "cell_type": "code",
   "execution_count": 29,
   "id": "4724573b",
   "metadata": {},
   "outputs": [
    {
     "data": {
      "text/html": [
       "<div>\n",
       "<style scoped>\n",
       "    .dataframe tbody tr th:only-of-type {\n",
       "        vertical-align: middle;\n",
       "    }\n",
       "\n",
       "    .dataframe tbody tr th {\n",
       "        vertical-align: top;\n",
       "    }\n",
       "\n",
       "    .dataframe thead th {\n",
       "        text-align: right;\n",
       "    }\n",
       "</style>\n",
       "<table border=\"1\" class=\"dataframe\">\n",
       "  <thead>\n",
       "    <tr style=\"text-align: right;\">\n",
       "      <th></th>\n",
       "      <th>Date</th>\n",
       "      <th>Open</th>\n",
       "      <th>High</th>\n",
       "      <th>Low</th>\n",
       "      <th>Close</th>\n",
       "      <th>Volume</th>\n",
       "      <th>Dividends</th>\n",
       "      <th>Stock Splits</th>\n",
       "    </tr>\n",
       "  </thead>\n",
       "  <tbody>\n",
       "    <tr>\n",
       "      <th>0</th>\n",
       "      <td>2022-07-06</td>\n",
       "      <td>30.172501</td>\n",
       "      <td>30.570000</td>\n",
       "      <td>28.342501</td>\n",
       "      <td>29.357500</td>\n",
       "      <td>9988800</td>\n",
       "      <td>0</td>\n",
       "      <td>0.0</td>\n",
       "    </tr>\n",
       "    <tr>\n",
       "      <th>1</th>\n",
       "      <td>2022-07-07</td>\n",
       "      <td>31.122499</td>\n",
       "      <td>33.875000</td>\n",
       "      <td>30.452499</td>\n",
       "      <td>33.779999</td>\n",
       "      <td>30313600</td>\n",
       "      <td>0</td>\n",
       "      <td>0.0</td>\n",
       "    </tr>\n",
       "    <tr>\n",
       "      <th>2</th>\n",
       "      <td>2022-07-08</td>\n",
       "      <td>31.665001</td>\n",
       "      <td>33.167500</td>\n",
       "      <td>30.627501</td>\n",
       "      <td>32.134998</td>\n",
       "      <td>13199600</td>\n",
       "      <td>0</td>\n",
       "      <td>0.0</td>\n",
       "    </tr>\n",
       "    <tr>\n",
       "      <th>3</th>\n",
       "      <td>2022-07-11</td>\n",
       "      <td>32.139999</td>\n",
       "      <td>32.935001</td>\n",
       "      <td>31.162500</td>\n",
       "      <td>32.522499</td>\n",
       "      <td>7532800</td>\n",
       "      <td>0</td>\n",
       "      <td>0.0</td>\n",
       "    </tr>\n",
       "    <tr>\n",
       "      <th>4</th>\n",
       "      <td>2022-07-12</td>\n",
       "      <td>32.700001</td>\n",
       "      <td>35.647499</td>\n",
       "      <td>31.815001</td>\n",
       "      <td>34.279999</td>\n",
       "      <td>16899600</td>\n",
       "      <td>0</td>\n",
       "      <td>0.0</td>\n",
       "    </tr>\n",
       "  </tbody>\n",
       "</table>\n",
       "</div>"
      ],
      "text/plain": [
       "        Date       Open       High        Low      Close    Volume  Dividends  \\\n",
       "0 2022-07-06  30.172501  30.570000  28.342501  29.357500   9988800          0   \n",
       "1 2022-07-07  31.122499  33.875000  30.452499  33.779999  30313600          0   \n",
       "2 2022-07-08  31.665001  33.167500  30.627501  32.134998  13199600          0   \n",
       "3 2022-07-11  32.139999  32.935001  31.162500  32.522499   7532800          0   \n",
       "4 2022-07-12  32.700001  35.647499  31.815001  34.279999  16899600          0   \n",
       "\n",
       "   Stock Splits  \n",
       "0           0.0  \n",
       "1           0.0  \n",
       "2           0.0  \n",
       "3           0.0  \n",
       "4           0.0  "
      ]
     },
     "execution_count": 29,
     "metadata": {},
     "output_type": "execute_result"
    }
   ],
   "source": [
    "gs = yf.Ticker('GME')\n",
    "gs = gs.history()\n",
    "gs = gs.reset_index()\n",
    "gs.head()"
   ]
  },
  {
   "cell_type": "markdown",
   "id": "f8256d68",
   "metadata": {},
   "source": [
    "# Use Webscraping to Extract GME Revenue Data\n",
    "\n",
    "Display the last five rows of the gme_revenue dataframe using the tail function. Upload a screenshot of the results. Make sure you are using the data from the table named GameStop Quarterly Revenue on the website."
   ]
  },
  {
   "cell_type": "code",
   "execution_count": 30,
   "id": "e32fda64",
   "metadata": {},
   "outputs": [],
   "source": [
    "from bs4 import BeautifulSoup\n",
    "import requests\n",
    "import pandas as pd\n",
    "url = \"https://www.macrotrends.net/stocks/charts/GME/gamestop/revenue\"\n",
    "html_data = requests.get(url).text"
   ]
  },
  {
   "cell_type": "code",
   "execution_count": 34,
   "id": "6635d04b",
   "metadata": {
    "scrolled": true
   },
   "outputs": [
    {
     "data": {
      "text/html": [
       "<div>\n",
       "<style scoped>\n",
       "    .dataframe tbody tr th:only-of-type {\n",
       "        vertical-align: middle;\n",
       "    }\n",
       "\n",
       "    .dataframe tbody tr th {\n",
       "        vertical-align: top;\n",
       "    }\n",
       "\n",
       "    .dataframe thead th {\n",
       "        text-align: right;\n",
       "    }\n",
       "</style>\n",
       "<table border=\"1\" class=\"dataframe\">\n",
       "  <thead>\n",
       "    <tr style=\"text-align: right;\">\n",
       "      <th></th>\n",
       "      <th>GameStop Quarterly Revenue(Millions of US $)</th>\n",
       "      <th>GameStop Quarterly Revenue(Millions of US $).1</th>\n",
       "    </tr>\n",
       "  </thead>\n",
       "  <tbody>\n",
       "    <tr>\n",
       "      <th>0</th>\n",
       "      <td>2022-04-30</td>\n",
       "      <td>$1,378</td>\n",
       "    </tr>\n",
       "    <tr>\n",
       "      <th>1</th>\n",
       "      <td>2022-01-31</td>\n",
       "      <td>$2,254</td>\n",
       "    </tr>\n",
       "    <tr>\n",
       "      <th>2</th>\n",
       "      <td>2021-10-31</td>\n",
       "      <td>$1,297</td>\n",
       "    </tr>\n",
       "    <tr>\n",
       "      <th>3</th>\n",
       "      <td>2021-07-31</td>\n",
       "      <td>$1,183</td>\n",
       "    </tr>\n",
       "    <tr>\n",
       "      <th>4</th>\n",
       "      <td>2021-04-30</td>\n",
       "      <td>$1,277</td>\n",
       "    </tr>\n",
       "  </tbody>\n",
       "</table>\n",
       "</div>"
      ],
      "text/plain": [
       "  GameStop Quarterly Revenue(Millions of US $)  \\\n",
       "0                                   2022-04-30   \n",
       "1                                   2022-01-31   \n",
       "2                                   2021-10-31   \n",
       "3                                   2021-07-31   \n",
       "4                                   2021-04-30   \n",
       "\n",
       "  GameStop Quarterly Revenue(Millions of US $).1  \n",
       "0                                         $1,378  \n",
       "1                                         $2,254  \n",
       "2                                         $1,297  \n",
       "3                                         $1,183  \n",
       "4                                         $1,277  "
      ]
     },
     "execution_count": 34,
     "metadata": {},
     "output_type": "execute_result"
    }
   ],
   "source": [
    "game_revenue=pd.read_html(url, match=\"GameStop Quarterly Revenue\", flavor='bs4')[0]\n",
    "game_revenue = df_revenue.rename(columns={'Tesla Quarterly Revenue(Millions of US $)':'Date','Tesla Quarterly Revenue(Millions of US $).1':'Revenue'})\n",
    "game_revenue.head()"
   ]
  },
  {
   "cell_type": "markdown",
   "id": "31b99a50",
   "metadata": {},
   "source": [
    "# Plot Tesla Stock Graph"
   ]
  },
  {
   "cell_type": "code",
   "execution_count": 88,
   "id": "ce1ef918",
   "metadata": {},
   "outputs": [],
   "source": [
    "tesla_revenue['Date'] = pd.to_datetime(tesla_revenue['Date'])"
   ]
  },
  {
   "cell_type": "code",
   "execution_count": 89,
   "id": "fd56d6c9",
   "metadata": {},
   "outputs": [
    {
     "name": "stderr",
     "output_type": "stream",
     "text": [
      "C:\\Users\\MUHAMM~1\\AppData\\Local\\Temp/ipykernel_14772/3295354234.py:1: FutureWarning:\n",
      "\n",
      "The default value of regex will change from True to False in a future version. In addition, single character regular expressions will *not* be treated as literal strings when regex=True.\n",
      "\n"
     ]
    }
   ],
   "source": [
    "tesla_revenue['Revenue'] = tesla_revenue['Revenue'].str.replace('$', '')\n",
    "tesla_revenue['Revenue'] = tesla_revenue['Revenue'].str.replace(',', '')\n",
    "tesla_revenue['Revenue'] = pd.to_numeric(tesla_revenue['Revenue'])"
   ]
  },
  {
   "cell_type": "code",
   "execution_count": 65,
   "id": "ce6a3fc4",
   "metadata": {
    "scrolled": true
   },
   "outputs": [
    {
     "data": {
      "text/plain": [
       "<AxesSubplot:xlabel='Date', ylabel='Revenue'>"
      ]
     },
     "execution_count": 65,
     "metadata": {},
     "output_type": "execute_result"
    },
    {
     "data": {
      "image/png": "[encoded data removed]",
      "text/plain": [
       "<Figure size 432x288 with 1 Axes>"
      ]
     },
     "metadata": {
      "needs_background": "light"
     },
     "output_type": "display_data"
    }
   ],
   "source": [
    "import seaborn as sns\n",
    "sns.lineplot(x='Date',y='Revenue',data=tesla_revenue)"
   ]
  },
  {
   "cell_type": "markdown",
   "id": "3701a1d2",
   "metadata": {},
   "source": [
    "# Plot GameStop Stock Graph"
   ]
  },
  {
   "cell_type": "code",
   "execution_count": 92,
   "id": "b8f4a3d5",
   "metadata": {},
   "outputs": [
    {
     "data": {
      "text/html": [
       "<div>\n",
       "<style scoped>\n",
       "    .dataframe tbody tr th:only-of-type {\n",
       "        vertical-align: middle;\n",
       "    }\n",
       "\n",
       "    .dataframe tbody tr th {\n",
       "        vertical-align: top;\n",
       "    }\n",
       "\n",
       "    .dataframe thead th {\n",
       "        text-align: right;\n",
       "    }\n",
       "</style>\n",
       "<table border=\"1\" class=\"dataframe\">\n",
       "  <thead>\n",
       "    <tr style=\"text-align: right;\">\n",
       "      <th></th>\n",
       "      <th>Date</th>\n",
       "      <th>Revenue</th>\n",
       "    </tr>\n",
       "  </thead>\n",
       "  <tbody>\n",
       "    <tr>\n",
       "      <th>0</th>\n",
       "      <td>2022-06-30</td>\n",
       "      <td>$16,934</td>\n",
       "    </tr>\n",
       "    <tr>\n",
       "      <th>1</th>\n",
       "      <td>2022-03-31</td>\n",
       "      <td>$18,756</td>\n",
       "    </tr>\n",
       "    <tr>\n",
       "      <th>2</th>\n",
       "      <td>2021-12-31</td>\n",
       "      <td>$17,719</td>\n",
       "    </tr>\n",
       "    <tr>\n",
       "      <th>3</th>\n",
       "      <td>2021-09-30</td>\n",
       "      <td>$13,757</td>\n",
       "    </tr>\n",
       "    <tr>\n",
       "      <th>4</th>\n",
       "      <td>2021-06-30</td>\n",
       "      <td>$11,958</td>\n",
       "    </tr>\n",
       "  </tbody>\n",
       "</table>\n",
       "</div>"
      ],
      "text/plain": [
       "         Date  Revenue\n",
       "0  2022-06-30  $16,934\n",
       "1  2022-03-31  $18,756\n",
       "2  2021-12-31  $17,719\n",
       "3  2021-09-30  $13,757\n",
       "4  2021-06-30  $11,958"
      ]
     },
     "execution_count": 92,
     "metadata": {},
     "output_type": "execute_result"
    }
   ],
   "source": [
    "url = \"https://www.macrotrends.net/stocks/charts/GME/gamestop/revenue\"\n",
    "html_data = requests.get(url).text\n",
    "game_revenue=pd.read_html(url, match=\"GameStop Quarterly Revenue\", flavor='bs4')[0]\n",
    "game_revenue = df_revenue.rename(columns={'Tesla Quarterly Revenue(Millions of US $)':'Date','Tesla Quarterly Revenue(Millions of US $).1':'Revenue'})\n",
    "game_revenue.head()"
   ]
  },
  {
   "cell_type": "code",
   "execution_count": 94,
   "id": "b6455793",
   "metadata": {},
   "outputs": [
    {
     "name": "stderr",
     "output_type": "stream",
     "text": [
      "C:\\Users\\MUHAMM~1\\AppData\\Local\\Temp/ipykernel_14772/791520740.py:1: FutureWarning:\n",
      "\n",
      "The default value of regex will change from True to False in a future version. In addition, single character regular expressions will *not* be treated as literal strings when regex=True.\n",
      "\n"
     ]
    }
   ],
   "source": [
    "game_revenue['Revenue'] = game_revenue['Revenue'].str.replace('$', '')\n",
    "game_revenue['Revenue'] = game_revenue['Revenue'].str.replace(',', '')\n",
    "game_revenue['Revenue'] = pd.to_numeric(game_revenue['Revenue'])"
   ]
  },
  {
   "cell_type": "code",
   "execution_count": 97,
   "id": "96564e35",
   "metadata": {},
   "outputs": [],
   "source": [
    "import datetime as dt\n",
    "game_revenue['Date'] = pd.to_datetime(game_revenue['Date'])"
   ]
  },
  {
   "cell_type": "code",
   "execution_count": 98,
   "id": "4b81aa73",
   "metadata": {},
   "outputs": [
    {
     "data": {
      "text/plain": [
       "<AxesSubplot:xlabel='Date', ylabel='Revenue'>"
      ]
     },
     "execution_count": 98,
     "metadata": {},
     "output_type": "execute_result"
    },
    {
     "data": {
      "image/png": "[encoded data removed]",
      "text/plain": [
       "<Figure size 432x288 with 1 Axes>"
      ]
     },
     "metadata": {
      "needs_background": "light"
     },
     "output_type": "display_data"
    }
   ],
   "source": [
    "import seaborn as sns\n",
    "sns.lineplot(x='Date',y='Revenue',data=game_revenue)"
   ]
  }
 ],
 "metadata": {
  "kernelspec": {
   "display_name": "Python 3 (ipykernel)",
   "language": "python",
   "name": "python3"
  },
  "language_info": {
   "codemirror_mode": {
    "name": "ipython",
    "version": 3
   },
   "file_extension": ".py",
   "mimetype": "text/x-python",
   "name": "python",
   "nbconvert_exporter": "python",
   "pygments_lexer": "ipython3",
   "version": "3.9.7"
  }
 },
 "nbformat": 4,
 "nbformat_minor": 5
}
